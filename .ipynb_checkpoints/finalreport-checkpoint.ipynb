{
 "cells": [
  {
   "cell_type": "markdown",
   "metadata": {},
   "source": [
    "# DATA608 Final Project - MTA Data"
   ]
  },
  {
   "cell_type": "markdown",
   "metadata": {},
   "source": [
    "Authors: Jun Yan <br />\n",
    "Date: December 19, 2018\n",
    "\n",
    "## Table of Contents:\n",
    "* [Part I - MTA Arts](#Part-I---MTA-Arts)\n",
    "* [Part II - MTA Capital Projects](#Part-II---MTA-Capital-Projects)\n",
    "* [Part III - MTA Fares Data](#Part-III---MTA-Fares-Data)"
   ]
  },
  {
   "cell_type": "markdown",
   "metadata": {},
   "source": [
    "The Metropolitan Transportation Authority (MTA) is the largest transit agency in the United States, providing public transportation to an average of 11 million passenger per day in the New York City and surrounding counties. The MTA has established a [API portal](http://datamine.mta.info/) to provide feeds to their internal data. Two types of data are provided by this protal: real-time data tracking the live location of all the trains and buses (which power numerous phone apps tracking MTA train and buses), and static data such as train/bus schedules, on-time performance reports, turnstile usage, etc.  \n",
    "\n",
    "In this project, I mainly focus on three static data provided in the API: the MTA Arts & Design Resources, the MTA Capital Projects Data and the MTA Fares Data. The end products of this project are in the links below:\n",
    "\n",
    "- [MTA Arts & Design](files/mta_arts.html)\n",
    "\n",
    "- [MTA Capital Projects](files/mta_capital_projects.html)\n",
    "\n",
    "- [MTA Fares Data](files/mta_fares.html)"
   ]
  },
  {
   "cell_type": "markdown",
   "metadata": {},
   "source": [
    "## Part I - MTA Arts"
   ]
  },
  {
   "cell_type": "markdown",
   "metadata": {},
   "source": [
    "The [MTA Arts & Design Resources](http://web.mta.info/developers/aft.html) is a collection of XML files, of which each file contains the data of MTA arts in a train line. These data include the art titles, authors, description, the stations where the arts are, as well as several file names for the pictures. MTA has a [website](http://web.mta.info/mta/aft/about/) for these arts. But the website is not well built and difficult to navigate. In this part of the project, I tried to provide geographical context to the data by putting these arts on a map. This will make it much easier for the audience to navigate the arts and digest the information.                                                                                                                                                                                                                                         To put these data on a map, I needed the GIS information, i.e. latitude and longitude. The XML files contains the station names, but not the latitude and longitude. The MTA data portal has a [csv file](http://web.mta.info/developers/data/nyct/subway/Stations.csv) that contains the station latitude and longitude of the stations. However, I found it useless, since the station names in the arts data are not the same in the station data. It must be different people who compiled these two data sets. \n",
    "\n",
    "To resolve the problem, I managed to build a [web scrapper](files/scrapper.ipynb) that automatically finds the latitude and longitude of each station in the arts data, by doing the following:\n",
    "\n",
    "1. Perform a Google search of the station name.\n",
    "2. Pick up the link leading to the Wikipedia page for that station.\n",
    "3. Scrap the Wikipedia page to look for the latitude and longitude for the station.\n",
    "\n",
    "I was able to get the latitude/longitude for every station on the list this way.\n",
    "\n",
    "I used the Python package [Folium](https://python-visualization.github.io/folium/) to build the map. Following are the notable features of this map:\n",
    "\n",
    "- When you hoover the mouse over icon, it shows the picture of the art.\n",
    "- When you click on the icon, it shows the description, as well as link to MTA’s website for the art.\n",
    "- On the upper right corner, there is a layer control that can be used to select the arts by MTA sub-agencies.\n",
    "\n",
    "In order to generate the icons, I created functions that can generate the HTML codes to create tables as popups, and links to the image as tooltips. Here is the [Jupyter Notebook](files/mta_arts.ipynb) that creates the map. "
   ]
  },
  {
   "cell_type": "markdown",
   "metadata": {},
   "source": [
    "## Part II - MTA Capital Projects"
   ]
  },
  {
   "cell_type": "markdown",
   "metadata": {},
   "source": [
    "The [MTA Capital Projects Data](http://web.mta.info/capitaldashboard/cdbxml/cdbxml.zip) is a collection of XML files that contains data for all the MTA planned and on-going capital projects (4,089 projects). Similar to the MTA Arts data, I wanted to show all of these projects on the map, so that it is easier to nagivate among the projects. Unlike the MTA Arts data, web scrapping for the station GIS is not necessary, since one of the files contains the exact latitude and longitude of the project location. I explored several features of Folium below:\n",
    "\n",
    "- Cluster the icons close to each other when you zoom out the map, and uncluster when you zoom in\n",
    "- Hoover the mouse over the icon will show a brief description of the project. \n",
    "- Clicking on the icon shows the complete data for the project.\n",
    "- On the upper right corner, a layer control that can be used to select the projects according to MTA sub-agencies.\n",
    "- A mini-map on the lower right corner.\n",
    "\n",
    "Here is the [Jupyter Notebook](files/capitalproject.ipynb) that creates the map."
   ]
  },
  {
   "cell_type": "markdown",
   "metadata": {},
   "source": [
    "## Part III - MTA Fares Data"
   ]
  },
  {
   "cell_type": "markdown",
   "metadata": {},
   "source": [
    "The [MTA Fares Data](http://web.mta.info/developers/fare.html) contains the number of MetroCard swipes made each week entering each station in the NYC Subway, PATH, AirTrain JFK, and Roosevelt Island Tram. The data breaks out the various types of MetroCards into individual columns. In a sense, this data reflects the riderships and types of riders using the stations.\n",
    "\n",
    "Again, I wanted to show this on a Folium map. This time, I created a heatmap using the fares date from the week of [December 15, 2018](http://web.mta.info/developers/data/nyct/fares/fares_181215.csv). To create the heatmap, I needed to calculate the weights for the stations, which depends on the total number of MetroCard swips (riders) in the station during that week. I first did a row-sum for the data set, which gave me the total ridership in each station. Then I standardized the total riderships using a [StandardScaler](https://scikit-learn.org/stable/modules/generated/sklearn.preprocessing.StandardScaler.html). The scaler takes the number of riders of a station and subtracts the average of all stations and then divided by the standard deviation (similar to calculating Z-score). The resulting values are mean centered around zero, and scaled by the distances to the mean. I used these as the weights for the stations.     \n",
    "\n",
    "Another obstacle for this part of the project is that the station GIS information is not included in the data. Unfortunately, I found that the GIS information obtained from Part I of the project cannot be reused for this data, nor is the MTA station csv file - the station names are again spelled or shortern differently. However, the scrapping code used in Part I is still good to use with small modifications. I was able to obtain the latitude and longitude of 494 stations out of 509 stations in the data. I had to filter out the 15 stations that I could not find the GIS on the internet.\n",
    "\n",
    "Below are the main Folium features I explored in this part of the project:\n",
    "\n",
    "- Hoover the mouse over the icon will show a brief description of the station and the total MetroCard swipes (riders)\n",
    "- Clicking on the station shows a bar chart, breaking down the types of MetroCard swipes (types of riders)\n",
    "- A search box on the upper left corner that can be used to search for a station name. The map will zoom into a matched station name.\n",
    "- Mouse position tracker in the lower left corner that shows the latitude and longitude position of the mouse point.\n",
    "\n",
    "In order to generate the bar charts, I first created the bar charts using Pandas plotting function. I then encoded the figure as base64, and embeded it in the HTML code. Here is the [Jupyter Notebook](files/fares.ipynb) that creates the map."
   ]
  }
 ],
 "metadata": {
  "kernelspec": {
   "display_name": "Python 3",
   "language": "python",
   "name": "python3"
  },
  "language_info": {
   "codemirror_mode": {
    "name": "ipython",
    "version": 3
   },
   "file_extension": ".py",
   "mimetype": "text/x-python",
   "name": "python",
   "nbconvert_exporter": "python",
   "pygments_lexer": "ipython3",
   "version": "3.6.5"
  }
 },
 "nbformat": 4,
 "nbformat_minor": 2
}
