{
 "cells": [
  {
   "cell_type": "markdown",
   "metadata": {},
   "source": [
    "# DATA608 Final Project - MTA Data Sets"
   ]
  },
  {
   "cell_type": "markdown",
   "metadata": {},
   "source": [
    "Authors: Jun Yan <br />\n",
    "Date: December 19, 2018\n",
    "\n",
    "## Table of Contents:\n",
    "* [Part I - MTA Arts](#Part-I---MTA-Arts)\n",
    "    * [Data Acquisition - OHLCV and Trend Index](#Data-Acquisition---OHLCV-and-Trend-Index)\n",
    "    * [Establishing Baseline](#Establishing-Baseline)\n",
    "    * [Why LSTM Neural Networks?](#Why-LSTM-Neural-Networks?)\n",
    "    * [Price Prediction - Regression](#Price-Prediction---Regression)\n",
    "    * [Range Prediction - Classification](#Range-Prediction---Classification)\n",
    "    * [Testing Models with New Data](#Testing-Models-with-New-Data)\n",
    "* [Part II - MTA Capital Projects](#Part-II---MTA-Capital-Projects)\n",
    "    * [Data Acquisition - Sentiment](#Data-Acquisition---Sentiment)\n",
    "    * [Tokenizing](#Tokenizing)\n",
    "    * [Text Analysis with Machine Learning Algorithms](#Text-Analysis-with-Machine-Learning-Algorithms)\n",
    "        * [Logistic Regression](#Logistic-Regression)\n",
    "        * [Naive Bayes](#Naive-Bayes)\n",
    "        * [Logistic Regression on entire dataset](#Logistic-Regression-on-entire-dataset)\n",
    "    * [Sentiment Influence on Bitcoin Prices](#Sentiment-Influence-on-Bitcoin-Prices)\n",
    "    * [Plotting the Sentiment Results](#Plotting-the-Sentiment-Results)\n",
    "* [Summary](#Summary)"
   ]
  },
  {
   "cell_type": "markdown",
   "metadata": {},
   "source": [
    "[mta_arts](files/mta_arts.html)\n",
    "\n",
    "[mta_capital_projects](files/mta_capital_projects.html)"
   ]
  },
  {
   "cell_type": "code",
   "execution_count": null,
   "metadata": {},
   "outputs": [],
   "source": []
  },
  {
   "cell_type": "code",
   "execution_count": null,
   "metadata": {},
   "outputs": [],
   "source": []
  },
  {
   "cell_type": "code",
   "execution_count": null,
   "metadata": {},
   "outputs": [],
   "source": []
  },
  {
   "cell_type": "code",
   "execution_count": null,
   "metadata": {},
   "outputs": [],
   "source": []
  },
  {
   "cell_type": "markdown",
   "metadata": {},
   "source": [
    "## Part I - MTA Arts"
   ]
  },
  {
   "cell_type": "code",
   "execution_count": null,
   "metadata": {},
   "outputs": [],
   "source": []
  },
  {
   "cell_type": "code",
   "execution_count": null,
   "metadata": {},
   "outputs": [],
   "source": []
  },
  {
   "cell_type": "markdown",
   "metadata": {},
   "source": [
    "## Part II - MTA Capital Projects"
   ]
  },
  {
   "cell_type": "code",
   "execution_count": null,
   "metadata": {},
   "outputs": [],
   "source": []
  }
 ],
 "metadata": {
  "kernelspec": {
   "display_name": "Python 3",
   "language": "python",
   "name": "python3"
  },
  "language_info": {
   "codemirror_mode": {
    "name": "ipython",
    "version": 3
   },
   "file_extension": ".py",
   "mimetype": "text/x-python",
   "name": "python",
   "nbconvert_exporter": "python",
   "pygments_lexer": "ipython3",
   "version": "3.6.5"
  }
 },
 "nbformat": 4,
 "nbformat_minor": 2
}
