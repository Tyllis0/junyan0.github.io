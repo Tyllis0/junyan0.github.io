{
 "cells": [
  {
   "cell_type": "markdown",
   "metadata": {},
   "source": [
    "# DATA608 Final Project - MTA Data"
   ]
  },
  {
   "cell_type": "markdown",
   "metadata": {},
   "source": [
    "Authors: Jun Yan <br />\n",
    "Date: December 19, 2018\n",
    "\n",
    "## Table of Contents:\n",
    "* [Part I - MTA Arts](#Part-I---MTA-Arts)\n",
    "* [Part II - MTA Capital Projects](#Part-II---MTA-Capital-Projects)"
   ]
  },
  {
   "cell_type": "markdown",
   "metadata": {},
   "source": [
    "The Metropolitan Transportation Authority (MTA) is the largest transit agency in the United States, providing public transportation to an average of 11 million passenger per day in the New York City and surrounding counties. The MTA has established a [API portal](http://datamine.mta.info/) to provide feeds to their internal data. Two types of data are provided by this protal: real-time data tracking the live location of all the trains and buses (which power numerous phone apps tracking MTA train and buses), and static data such as train/bus schedules, on-time performance reports, turnstile usage, etc.  \n",
    "\n",
    "In this project, I mainly focus on two static data provided in the API: the MTA Arts & Design Resources, and the MTA Capital Projects Data. The end products of this project is in the links below:\n",
    "\n",
    "- [MTA Arts & Design](files/mta_arts.html)\n",
    "\n",
    "- [MTA Capital Projects](files/mta_capital_projects.html)"
   ]
  },
  {
   "cell_type": "markdown",
   "metadata": {},
   "source": [
    "## Part I - MTA Arts"
   ]
  },
  {
   "cell_type": "markdown",
   "metadata": {},
   "source": [
    "The [MTA Arts & Design Resources](http://web.mta.info/developers/aft.html) is a collection of XML files, of which each file contains the data of MTA arts in a train line. These data include the art titles, authors, description, the stations where the arts are, as well as several file names for the pictures. MTA has a [website](http://web.mta.info/mta/aft/about/) for these arts. But the website is not well built and difficult to navigate. In this part of the project, I tried to provide geographical context to the data by putting these arts on a map. This will make it much easier for the audience to navigate the arts and digest the information.                                                                                                                                                                                                                                         To put these data on a map, I needed the GIS information, i.e. latitude and longitude. The XML files contains the station names, but not the latitude and longitude. The MTA data portal has a [csv file](http://web.mta.info/developers/data/nyct/subway/Stations.csv) that contains the station latitude and longitude of the stations. However, I found it useless, since the station names in the arts data are not the same in the station data. It must be different people who compiled these two data sets. \n",
    "\n",
    "To resolve the problem, I managed to build a [web scrapper](files/scrapper.ipynb) that automatically finds the latitude and longitude of each station in the arts data, by doing the following:\n",
    "\n",
    "1. Perform a Google search of the station name.\n",
    "2. Pick up the link leading to the Wikipedia page for that station.\n",
    "3. Scrap the Wikipedia page to look for the latitude and longitude for the station.\n",
    "\n",
    "I was able to get the latitude/longitude for every station on the list this way.\n",
    "\n",
    "I used the Python package [Folium](https://python-visualization.github.io/folium/) to build the map. Following are the notable features of this map:\n",
    "\n",
    "- When you hoover the mouse over icon, it shows the picture of the art.\n",
    "- When you click on the icon, it shows the description, as well as link to MTA’s website for the art.\n",
    "- On the upper right corner, there is a layer control that can be used to select the arts by MTA sub-agencies.\n",
    "\n",
    "In order to generate the icons, I created functions that can generate the HTML codes to create tables as popups, and links to the image as tooltips. Here is the [Python code](files/mta_arts.ipynb) that creates the map. "
   ]
  },
  {
   "cell_type": "markdown",
   "metadata": {},
   "source": [
    "## Part II - MTA Capital Projects"
   ]
  },
  {
   "cell_type": "markdown",
   "metadata": {},
   "source": [
    "The [MTA Capital Projects Data](http://web.mta.info/capitaldashboard/cdbxml/cdbxml.zip) is a collection of XML files that contains data for all the MTA planned and on-going capital projects (4,089 projects). Similar to the MTA Arts data, I wanted to show all of these projects on the map, so that it is easier to nagivate among the projects. Unlike the MTA Arts data, web scrapping for the station GIS is not necessary, since one of the files contains the exact latitude and longitude of the project location. I explored several features of Folium below:\n",
    "\n",
    "- Cluster the icons close to each other when you zoom out the map, and uncluster when you zoom in\n",
    "- Hoover the mouse over the icon will show a brief description of the project. \n",
    "- Clicking on the icon shows the complete data for the project.\n",
    "- On the upper right corner, a layer control that can be used to select the projects according to MTA sub-agencies.\n",
    "- A mini-map on the lower right corner.\n"
   ]
  },
  {
   "cell_type": "markdown",
   "metadata": {},
   "source": []
  }
 ],
 "metadata": {
  "kernelspec": {
   "display_name": "Python 3",
   "language": "python",
   "name": "python3"
  },
  "language_info": {
   "codemirror_mode": {
    "name": "ipython",
    "version": 3
   },
   "file_extension": ".py",
   "mimetype": "text/x-python",
   "name": "python",
   "nbconvert_exporter": "python",
   "pygments_lexer": "ipython3",
   "version": "3.6.5"
  }
 },
 "nbformat": 4,
 "nbformat_minor": 2
}
